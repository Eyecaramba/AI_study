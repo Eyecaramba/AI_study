{
 "cells": [
  {
   "cell_type": "markdown",
   "metadata": {},
   "source": [
    "# Numpy"
   ]
  },
  {
   "cell_type": "markdown",
   "metadata": {},
   "source": [
    "### 어떻게 행렬과 매트릭스를 코드로 표현할 것인가? "
   ]
  },
  {
   "cell_type": "markdown",
   "metadata": {},
   "source": [
    "다양한 matrix 계산을 어떻게 만들것인가?  \n",
    "큰 matrix에 대한 표현은 어떻게 할 것인가?  \n",
    "처리 속도 문제 "
   ]
  },
  {
   "cell_type": "markdown",
   "metadata": {},
   "source": [
    "### numpy 특징 \n",
    "\n",
    "1. 일반 list에 비해 빠르고 메모리 효율적임  \n",
    "2. 반복문 없이 데이터 배열에 대한 처리를 지원함  \n",
    "3. 선형대수와 관련된 다양한 기능을 제공함"
   ]
  },
  {
   "cell_type": "markdown",
   "metadata": {},
   "source": [
    "#### ndarray\n",
    "\n",
    "numpy array는 차례대로 데이터들이 들어가 있음  \n",
    "반면 python의 list에는 data의 주소값이 들어가 있음.\n"
   ]
  },
  {
   "cell_type": "code",
   "execution_count": 47,
   "metadata": {},
   "outputs": [
    {
     "data": {
      "text/plain": [
       "array([1., 4., 5., 8.])"
      ]
     },
     "execution_count": 47,
     "metadata": {},
     "output_type": "execute_result"
    }
   ],
   "source": [
    "import numpy as np \n",
    "\n",
    "test_array = np.array([1,4,5,8],float) # np는 하나의 데이터 type만 배열에 넣을 수 있음\n",
    "test_array"
   ]
  },
  {
   "cell_type": "code",
   "execution_count": 48,
   "metadata": {},
   "outputs": [
    {
     "name": "stdout",
     "output_type": "stream",
     "text": [
      "(4,)\n",
      "(2, 4)\n"
     ]
    }
   ],
   "source": [
    "# array RANK에 따라 불리는 이름이 있음 \n",
    "# scalar, vector, matrix, n-tensor로 불림 \n",
    "# 차원이 늘어날수록 새로 생긴 차원의 값이 가장 앞에 위치한다. \n",
    "\n",
    "print(np.array(test_array).shape) # array의 모양을 알 수 있는 메서드\n",
    "print(np.array([test_array,test_array]).shape)"
   ]
  },
  {
   "cell_type": "code",
   "execution_count": 49,
   "metadata": {},
   "outputs": [
    {
     "data": {
      "text/plain": [
       "24"
      ]
     },
     "execution_count": 49,
     "metadata": {},
     "output_type": "execute_result"
    }
   ],
   "source": [
    "# nbytes : ndarray object의 메모리 크기를 반환함 \n",
    "np.array([[1,2,3],[4,5,6]],dtype=np.float32).nbytes"
   ]
  },
  {
   "cell_type": "code",
   "execution_count": 50,
   "metadata": {},
   "outputs": [
    {
     "name": "stdout",
     "output_type": "stream",
     "text": [
      "[1 2 3 4 5 6 7 8]\n",
      "[[1 2]\n",
      " [3 4]\n",
      " [5 6]\n",
      " [7 8]]\n"
     ]
    }
   ],
   "source": [
    "# reshape : array의 shape의 크기를 변경하지만 element갯수는 동일함 \n",
    "test_matrix = [[1,2,3,4],[5,6,7,8]]\n",
    "\n",
    "print(np.array(test_matrix).reshape(8,)) # (2,4) -> (8,)로 변경\n",
    "\n",
    "print(np.array(test_matrix).reshape(4,-1)) #-1은 size를 기반으로 개수를 선정해줌 "
   ]
  },
  {
   "cell_type": "code",
   "execution_count": 51,
   "metadata": {},
   "outputs": [
    {
     "name": "stdout",
     "output_type": "stream",
     "text": [
      "[1 2 3 4 5 6 7 8]\n"
     ]
    }
   ],
   "source": [
    "# flatten : 다차원 array를 1차원 arrray로 변환함 \n",
    "print(np.array(test_matrix).flatten())"
   ]
  },
  {
   "cell_type": "code",
   "execution_count": 52,
   "metadata": {},
   "outputs": [
    {
     "name": "stdout",
     "output_type": "stream",
     "text": [
      "[[1 2 4]\n",
      " [4 5 6]]\n",
      "[[ 3  4  5]\n",
      " [ 8  9 10]]\n",
      "[7 8]\n",
      "[ 6  7  8  9 10]\n",
      "[[ 1  3  5]\n",
      " [ 6  8 10]]\n"
     ]
    }
   ],
   "source": [
    "# indexing & slicing\n",
    "\n",
    "# indexing : index를 정해서 그 자리에 값 할당 가능\n",
    "test_example  = np.array([[1,2,3],[4,5,6]])\n",
    "test_example[0,2] = 4\n",
    "print(test_example)\n",
    "\n",
    "# slicing : array를 나눌 수 있음 \n",
    "a = np.array([[1,2,3,4,5],[6,7,8,9,10]])\n",
    "print(a[:,2:]) # 콜론(:)만 있으면 전체를 의미함 \n",
    "print(a[1,1:3]) # 콜론 앞뒤로 범위를 지정할 수 있음 \n",
    "print(a[-1,:]) # -1은 마지막 값을 의미함 \n",
    "print(a[:,::2]) # 콜론 두개를 사용하면 추출할 칸의 간격을 설정할 수 있다"
   ]
  },
  {
   "cell_type": "code",
   "execution_count": 53,
   "metadata": {},
   "outputs": [
    {
     "data": {
      "text/plain": [
       "array([[0.14991905, 0.93718646, 0.67777551, 0.98050941, 0.66799681],\n",
       "       [0.50030368, 0.43543255, 0.74140392, 0.85348312, 0.14373235]])"
      ]
     },
     "execution_count": 53,
     "metadata": {},
     "output_type": "execute_result"
    }
   ],
   "source": [
    "# creation function \n",
    "\n",
    "np.arange(30) # arrange(시작, 끝 , step) : 시작부터 끝까지 step을 간격으로 삼아 array를 생성함 \n",
    "\n",
    "np.zeros(shape=(10,),dtype=np.int8) # zeros(shpae,dtype) : shape에 맞춰서 0으로 채워진 array를 생성함 \n",
    "np.ones(shape=(10,),dtype=np.int8) # zeros와 기능은 같으나 1로 채워줌 \n",
    "# zero_like, ones_like : 메서드에 입력된 array의 모양과 똑같은 모양의 array를 생성하고 이를 0 or 1로 채워줌 \n",
    "\n",
    "np.identity(n = 3, dtype= np.int8) #identity(n,dtype) : n개의 행과 열을 가진 단위행렬을 생성함 \n",
    "\n",
    "np.eye(3,5,k=2) #eye(n,m,k) : n * m행렬을 생성하고 k번째 부터 대각선을 1로 채움 \n",
    "\n",
    "np.random.uniform(0,1,10).reshape(2,5) # random.method(n,m,k) n부터 m까지의 값을 랜덤하게 k개 생성하여 array를 만듦\n",
    "# randmom에는 normal, exponential, uniform 등 여러가지 메서드가 있음 "
   ]
  },
  {
   "cell_type": "code",
   "execution_count": 54,
   "metadata": {},
   "outputs": [
    {
     "name": "stdout",
     "output_type": "stream",
     "text": [
      "[[ 1  2  3  4]\n",
      " [ 5  6  7  8]\n",
      " [ 9 10 11 12]]\n",
      "78\n",
      "[15 18 21 24]\n",
      "[10 26 42]\n"
     ]
    }
   ],
   "source": [
    "# operation funcitons\n",
    "\n",
    "test_array = np.arange(1,13).reshape(-1,4)\n",
    "print(test_array)\n",
    "\n",
    "# ndarray는 여러가지 연산 메서드를 지원한다. \n",
    "# ndarray는 어떻게 연산을 지원하는가? \n",
    "# axis : 모든 operation function을 실행할 때 기준이 되는 dimension축\n",
    "# shape이 (3,4)인 행렬이 있을 때 axis = 0 이면 행을 가리키고 axis = 1 이면 열을 가리킨다.\n",
    "# 연산시 axis를 설정해주면 설정한 축을 기준으로 연산을 수행한다. \n",
    "\n",
    "print(test_array.sum())\n",
    "print(test_array.sum(axis=0))\n",
    "print(test_array.sum(axis=1))\n",
    "\n",
    "# mean, std, 등등 여러가지를 지원함 "
   ]
  },
  {
   "cell_type": "code",
   "execution_count": 55,
   "metadata": {},
   "outputs": [],
   "source": [
    "# concatenate((n,m),axis) : axis를 기준으로 n과 m인 ndarray를 합치는 함수 \n",
    "# vstack, hstack \n",
    "# newaxis : 하나의 축을 생성해줌 \n",
    "\n",
    "# dot() : 행렬 곱셈을 하는 경우\n",
    "# transpose() or .T : 전치행렬 \n",
    "\n",
    "# numpy array는 기본적으로 사칙연산을 지원함 \n",
    "\n",
    "# element-wise operations : 같은 위치에 있는 원소끼리 연산을 시행하는 것, 연산하는 array의 shape이 같아야 함 \n",
    "\n",
    "# broadcasting : shpae이 다른 배열 간 연산 지원 \n",
    "# scalar - vector 외에도 vector - matrix 간의 연산도 지원함 \n",
    "# 주의해야 하는 연산 중 하나임"
   ]
  },
  {
   "cell_type": "code",
   "execution_count": null,
   "metadata": {},
   "outputs": [],
   "source": [
    "# numpy performance\n",
    "\n",
    "# timeit : jupyter 환경에서 코드의 퍼포먼스를 체크하는 함수 \n",
    "\n",
    "# 일반적으로 속도는 for loop < list comprehension < numpy\n",
    "# numpy는 c로 구현되어 있어 성능이 좋으나 dynamic typing을 포기함 \n",
    "# numpysms 대용량 계산에서 가장 흔히 사용됨"
   ]
  },
  {
   "cell_type": "markdown",
   "metadata": {},
   "source": [
    "## comparsion "
   ]
  },
  {
   "cell_type": "code",
   "execution_count": 64,
   "metadata": {},
   "outputs": [
    {
     "name": "stdout",
     "output_type": "stream",
     "text": [
      "False\n",
      "True\n",
      "[False  True  True False False False False False False False]\n",
      "[ True False False False False False False False False False]\n",
      "[ True  True  True  True  True  True  True  True  True  True]\n"
     ]
    }
   ],
   "source": [
    "# all & any \n",
    "\n",
    "a = np.arange(10)\n",
    "\n",
    "print(np.all(a < 5)) #all : 모든 원소의 값이 조건을 만족해야 true\n",
    "print(np.any(a < 5)) #any : 1개라도 만족하는 값이 존재하면 true \n",
    "print(np.logical_and(a>0,a<3)) # and 조건의 condition\n",
    "print(np.logical_not(a>0)) # 조건에 맞는 것을 false로 출력 \n",
    "print(np.logical_or(a>0, a<3)) # or 조건의 condition \n"
   ]
  },
  {
   "cell_type": "code",
   "execution_count": 66,
   "metadata": {},
   "outputs": [
    {
     "data": {
      "text/plain": [
       "(array([6, 7, 8, 9]),)"
      ]
     },
     "execution_count": 66,
     "metadata": {},
     "output_type": "execute_result"
    }
   ],
   "source": [
    "# np.where\n",
    "\n",
    "np.where(a > 0,3,2) # where(conditon,TRUE,FALSE) : condition에 맞다면 그 인덱스에 true 자리에 설정한 값을 대입함 \n",
    "\n",
    "np.where(a>5) #condition에 맞는 index값을 반환함 \n",
    "\n",
    "# isnan, isfi"
   ]
  },
  {
   "cell_type": "code",
   "execution_count": 75,
   "metadata": {},
   "outputs": [
    {
     "name": "stdout",
     "output_type": "stream",
     "text": [
      "[2 2 2 1]\n",
      "[0 0 0 0]\n",
      "[[0 1 2 3]\n",
      " [0 1 2 3]\n",
      " [3 0 1 2]]\n",
      "78\n",
      "1\n"
     ]
    }
   ],
   "source": [
    "# argmax & argmin : array내 axis를 기반으로 최대값 또는 최소값의 index를 반환함\n",
    "# argsort : 정렬했을 때 index를 표현함 \n",
    "\n",
    "a = np.array([[1,2,3,4],[5,6,7,8],[14,15,16,7]])\n",
    "\n",
    "print(np.argmax(a,axis = 0))\n",
    "print(np.argmin(a,axis = 0))\n",
    "print(np.argsort(a))\n",
    "\n",
    "# index가 아닌 value를 돌려받는 방법 \n",
    "a = np.array([1,2,4,5,6,78,23,3])\n",
    "print(a[np.argmax(a)])\n",
    "print(a[np.argmin(a)])"
   ]
  },
  {
   "cell_type": "code",
   "execution_count": 80,
   "metadata": {},
   "outputs": [
    {
     "name": "stdout",
     "output_type": "stream",
     "text": [
      "[ True False  True  True False False False False]\n",
      "[2. 2. 4. 8. 6. 4.]\n",
      "[ 1.  4. 15. 15.  4.]\n"
     ]
    }
   ],
   "source": [
    "# boolean index \n",
    "\n",
    "test_array = np.array([1,4,0,2,3,8,9,7], float)\n",
    "\n",
    "condition = test_array < 3\n",
    "print(condition)\n",
    "\n",
    "# fancy index : array를 index valu를 사용해서 값을 추출하는 방법 \n",
    "a = np.array([2,4,6,8],float)\n",
    "b = np.array([0,0,1,3,2,1],int) # 반드시 int형으로 선언하기 \n",
    "\n",
    "# bracket index\n",
    "print(a[b]) # b에 저장된 index값을 a에서 찾아 a값들을 추출함 \n",
    "a.take(b) #bracket index와 같은 효과\n",
    "\n",
    "# matrix 형태의 데이터도 가능하다 \n",
    "a = np.array([[1,4],[9,15]],float)\n",
    "b = np.array([0,0,1,1,0],int)\n",
    "c = np.array([0,1,1,1,1],int)\n",
    "\n",
    "print(a[b,c])"
   ]
  },
  {
   "cell_type": "code",
   "execution_count": 81,
   "metadata": {},
   "outputs": [],
   "source": [
    "#numpy data \n",
    "#loadtxt & savetxt\n",
    "# numpy를 object로 변환하여 저장해서 사용할 수 있다. "
   ]
  },
  {
   "cell_type": "markdown",
   "metadata": {},
   "source": [
    "END"
   ]
  }
 ],
 "metadata": {
  "kernelspec": {
   "display_name": "Python 3 (ipykernel)",
   "language": "python",
   "name": "python3"
  },
  "language_info": {
   "codemirror_mode": {
    "name": "ipython",
    "version": 3
   },
   "file_extension": ".py",
   "mimetype": "text/x-python",
   "name": "python",
   "nbconvert_exporter": "python",
   "pygments_lexer": "ipython3",
   "version": "3.9.7"
  },
  "vscode": {
   "interpreter": {
    "hash": "40d3a090f54c6569ab1632332b64b2c03c39dcf918b08424e98f38b5ae0af88f"
   }
  }
 },
 "nbformat": 4,
 "nbformat_minor": 2
}

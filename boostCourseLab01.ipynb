{
 "cells": [
  {
   "cell_type": "markdown",
   "id": "c6c953ba",
   "metadata": {},
   "source": [
    "# OPP"
   ]
  },
  {
   "cell_type": "code",
   "execution_count": 5,
   "id": "0b7d0acb",
   "metadata": {},
   "outputs": [],
   "source": [
    "#class in Python\n",
    "\n",
    "#class class namae(object - 상속받는 객체명):\n",
    "\n",
    "class FootballPlayer():\n",
    "    \n",
    "    #클래스 내에 객체의 행동을 정의하는 함수를 만들 수 있음\n",
    "    #함수에는 반드시 self가 들어가야 함 \n",
    "    #self란? 생성된 instance를 의미함 \n",
    "    #__init__ 객체 초기화 예약 함수#\n",
    "    def __init__(self,name : str,position : str,back_number : int):  # : 를 통해 힌트를 줄 수 있다. \n",
    "        self.name = name\n",
    "        self.position = position\n",
    "        self.back_number = back_number\n",
    "        \n",
    "    # MagicMethod    \n",
    "    #언더바 두개 __는 특수한 예약 함수나 변수, 함수명 변경(맨글링)으로 사용\n",
    "    # ex - __main__, __add__,__str__, etc..  \n",
    "    def __str__(self): #객체를 출력할 때 어떻게 출력할지 정의한다. \n",
    "        return \"hello\"\n",
    "    \n",
    "    def _add__(self,other):\n",
    "        rerurn self.name + other.name"
   ]
  },
  {
   "cell_type": "code",
   "execution_count": 6,
   "id": "0fccf64e",
   "metadata": {},
   "outputs": [],
   "source": [
    "#instance 생성하기 \n",
    "abc = FootballPlayer(\"son\",\"FW\",7)"
   ]
  },
  {
   "cell_type": "code",
   "execution_count": 17,
   "id": "a860545a",
   "metadata": {},
   "outputs": [],
   "source": [
    "class Note():\n",
    "    def __init__(self,content : str):\n",
    "        self.content = content\n",
    "    \n",
    "    def __add__(self, other):\n",
    "        return self.content + other.content\n",
    "    \n",
    "    def remove(self):\n",
    "        self.content = \"\"\n",
    "    \n",
    "    def __str__(self):\n",
    "        return self.content\n",
    "    \n",
    "class NoteBook():\n",
    "    def __init__(self):\n",
    "        self.page = []\n",
    "    \n",
    "    def insert(self,note):\n",
    "        if(len(self.page) <= 300):\n",
    "            self.page.append(note)\n",
    "        else : \n",
    "            print(\"page가 모두 찼습니다.\")\n",
    "        \n",
    "    "
   ]
  },
  {
   "cell_type": "code",
   "execution_count": 19,
   "id": "bb5e87a8",
   "metadata": {},
   "outputs": [
    {
     "name": "stdout",
     "output_type": "stream",
     "text": [
      "python\n"
     ]
    }
   ],
   "source": [
    "note1 = Note(\"hello\")\n",
    "note2 = Note(\"python\")\n",
    "\n",
    "notebook = NoteBook()\n",
    "\n",
    "notebook.insert(note1)\n",
    "notebook.insert(note2)\n",
    "print(notebook.page[1])"
   ]
  },
  {
   "cell_type": "markdown",
   "id": "6dec43a6",
   "metadata": {},
   "source": [
    "## OPP characteristics"
   ]
  },
  {
   "cell_type": "markdown",
   "id": "4062be35",
   "metadata": {},
   "source": [
    "객체를 생성하기 위해 필요한 것 3가지 \n",
    "\n",
    "Inheritance : 상속 (부모 클래스로부터 속성과 메서드를 자식 클래스가 물려받는 것)\n",
    "\n",
    "Polymorphism : 다형성 (같은 이름 메소드의 내부 로직을 다르게 작성하는 것)\n",
    "\n",
    "Visibility or Encapsulation: 객체의 정보를 볼 수 있는 레벨을 조절하는 것 (누구나 객체 안에 모든 변수를 볼 필요는 없음)\n",
    "\n",
    "속성이름 앞에 언더바 2개를 찍으면 사용자가 바로 접근할 수 없음 \n",
    "\n",
    "First_class object : 변수나 데이터 구조에 할당이 가능한 객체, 파라미터로 전달이 가능, 리턴 값으로 사용 가능 \n",
    "First_clsss function : 변수나 데이터 구조에 할다이 가능한 함수 \n",
    "\n",
    "Inner function : 함수 내에 또 다른 함수가 존재 \n",
    "\n",
    "clousures : inner function을 return 값으로 반환 \n",
    "\n",
    "decorator function : clousure function을 간단하게 만듦\n",
    "\n",
    "** decorater ? **"
   ]
  },
  {
   "cell_type": "markdown",
   "id": "0a7635db",
   "metadata": {},
   "source": [
    "## Module and Package"
   ]
  },
  {
   "cell_type": "markdown",
   "id": "c6e769a4",
   "metadata": {},
   "source": [
    "module을 모아 하나의 package로 만든다."
   ]
  },
  {
   "cell_type": "code",
   "execution_count": 22,
   "id": "70d84755",
   "metadata": {},
   "outputs": [],
   "source": [
    "# import modulefile.py - 모든 코드들이 메모리로 올라감, 같은 디렉토리에 있어야 함 \n",
    "# import를 하면 __pycache__폴더를 생성하여 컴파일한 파일을 저장함 \n",
    "\n",
    "# module을 import할 때 범위를 정할 수 있음\n",
    "# from module import 특정 함수 or 클래스 \n",
    "# tip : 코드가 어디서 왔는지 명확히 밝혀줄 필요가 있다. 따라서 import as 를 사용하는 것 추천\n",
    "\n",
    "# from keyword는 파일 디렉토리를 지정하는데 사용할 수 있다. \n",
    "# 만일 sound file 안에 bgm.py 모듈을 사용하고 싶다면 from sound import bgm으로 사용 가능하다. \n",
    "\n",
    "# __init__.py는 현재 폴더가 패키지임을 알리는 초기화 스크립트 \n",
    "# __init__.py는 폴더별로 원래 만들어야 했지만 만들지 않아도 됨 \n",
    "#__all__ = [\"image\",\"sound\",\"stage\"]\n",
    "#from . import image\n",
    "#from . import sound\n",
    "#from . import stage\n",
    "\n",
    "# 파이썬은 폴더로 공개하게 되면 폴더자체를 실행시킬 수 있다.\n",
    "# __main__.py는 폴더 자체를 실행할 때 실행 대상이 된다. "
   ]
  },
  {
   "cell_type": "markdown",
   "id": "578d9e25",
   "metadata": {},
   "source": [
    "open source library 사용하기 \n",
    "\n",
    "두 개의 프로젝트를 진행한다고 했을 때 필요한 패키지를 모두 설치하다보면 충돌이 발생할 수 있다. \n",
    "\n",
    "따라서 가상환경을 나누어 주는 것이 필요하다 \n",
    "\n",
    "conda, virtualenv + pip -> 대표적인 도구 \n",
    "\n",
    "conda kernel 명령어 \n",
    "\n",
    "- conda create -n 가상환경이름 python=버전 -> 새로운 가상환경 만들기 \n",
    "- conda activate 가상환경이름 -> 가상환경 호출\n",
    "- conda deactivate -> 가상환경 해제 \n",
    "- conda install 패키지 이름 -> 패키지 설치 "
   ]
  },
  {
   "cell_type": "code",
   "execution_count": 23,
   "id": "81e690e1",
   "metadata": {},
   "outputs": [],
   "source": [
    "# kernel 명령어 - touch : 파일을 생성해줌 "
   ]
  },
  {
   "cell_type": "markdown",
   "id": "6855a027",
   "metadata": {},
   "source": [
    "## Exception/File/Log Hadling"
   ]
  },
  {
   "cell_type": "markdown",
   "id": "5d047f94",
   "metadata": {},
   "source": [
    "Exception Handling\n",
    "\n",
    "- 예상이 가능한 예외 : 개발자가 반드시 명시적으로 정의해야함 \n",
    "- 예상이 불가능한 예외 : 인터프리터 과정에서 발생하는 예외 \n",
    "\n",
    "예외 발생시 후속 조치가 필요함 \n",
    "\n",
    "- try: 예외 발생 가능 코드 \n",
    "- except <Exception Type> : 예외 발생시 대응하는 코드\n",
    "    - bulit-in exception : 이미 정의되어 있는 예외 \n",
    "- else : 예외가 발생하지 않을 떄 동작하는 코드 \n",
    "- finally : 예외와 상관없이 동작함 \n",
    "\n",
    "- raise : 필요에 따라 강제로 exception 발생 \n",
    "    -> 뒤에 실행하지 않아도 되는 코드를 실행하지 않기 위해 사용함\n",
    "    -> 에러가 발생한 다음 뒤에 있는 코드를 실행시키는 것이 중요함\n",
    "    \n",
    "assert 예외조건 : 예외조건이 발생한 경우에만 exception을 발생시킴 "
   ]
  },
  {
   "cell_type": "markdown",
   "id": "27d8bc16",
   "metadata": {},
   "source": [
    "### File Handling\n",
    "\n",
    "파일의 종류는 text파일과 binary파일로 나뉨 \n",
    "\n",
    "text파일은 인간이 읽을 수 있는 파일. \n",
    "\n",
    "binary 파일은 메모장이 해설할 수 없는 (꺠져 보이는) 파일, 지원하는 소프트웨어에서만 열 수 있음\n",
    "\n",
    "f = open(\"파일이름\",\"읽기모드\")\n",
    "\n",
    "open은 파일을 읽어오기 위해 주소를 지정하는 것임 \n",
    "\n",
    "f.close()\n",
    "\n",
    "with 키워드 : with 블록 안에 있는 구문이 실행되는 동안에는 with 문장이 적용되고 with 블록 안을 넘어가면 with 문장도 더 이상 적용되지 않는다.  \n",
    "- read : 파일을 통째로 읽어옴\n",
    "- readline : 파일을 한 줄 씩 읽어옴 \n",
    "- split : 읽어온 정보를 정한 기준에 따라 나눔\n",
    "\n",
    "f = open(\"파일이름\", 'w',encoding = \"utf8\")\n",
    "\n",
    "encoding은 문자를 컴퓨터에 저장할 때 어떤 방식으로 저장할지 그 표준을 정하는 것 \n",
    "\n",
    "import os : 파이썬 디렉토리 다루기 \n",
    "\n",
    "os간 파일 경로를 표현하는 방식이 조금씩 다르기 때문에 파일 경로를 직접 사용하는 것 보다 join메서드를 사용하는 것을 더 권장함 \n",
    "\n",
    "최근에는 pathlib 모듈을 사용하여 path를 객체로 다룸 \n",
    "\n",
    "#Pickle\n",
    "\n",
    "객체는 메모리에 올라가 있음 \n",
    "\n",
    "객체를 저장하고 싶을 때가 있는데 객체를 영속화 하기 위해 pickle을 사용함 \n",
    "\n",
    "주요 명령어 : dump, test "
   ]
  },
  {
   "cell_type": "markdown",
   "id": "476da529",
   "metadata": {},
   "source": [
    "## Logging Handling"
   ]
  },
  {
   "cell_type": "code",
   "execution_count": null,
   "id": "04a1e16c",
   "metadata": {},
   "outputs": [],
   "source": [
    "#로그 남기기 : 프로그램이 실행되는 동안 일어나는 정보를 기록하는 것 \n",
    "\n",
    "logger = logging.getLogger(\"main\") #loger 선언\n",
    "stream_hander = logging.streamHandler() #logger output 방법 선언\n",
    "\n",
    "#configparser - 프로그램의 실행 설정을 file에 저장\n",
    "\n",
    "#argparser\n",
    "\n",
    "logger.addHandler(stream_hander) \n",
    "\n"
   ]
  }
 ],
 "metadata": {
  "kernelspec": {
   "display_name": "Python 3 (ipykernel)",
   "language": "python",
   "name": "python3"
  },
  "language_info": {
   "codemirror_mode": {
    "name": "ipython",
    "version": 3
   },
   "file_extension": ".py",
   "mimetype": "text/x-python",
   "name": "python",
   "nbconvert_exporter": "python",
   "pygments_lexer": "ipython3",
   "version": "3.9.7"
  }
 },
 "nbformat": 4,
 "nbformat_minor": 5
}
